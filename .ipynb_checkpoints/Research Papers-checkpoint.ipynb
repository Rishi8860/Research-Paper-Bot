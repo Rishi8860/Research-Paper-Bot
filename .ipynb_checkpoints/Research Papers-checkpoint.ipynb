{
 "cells": [
  {
   "cell_type": "markdown",
   "id": "2a479459",
   "metadata": {},
   "source": [
    "# Loading the Driver"
   ]
  },
  {
   "cell_type": "code",
   "execution_count": 11,
   "id": "d57d4944",
   "metadata": {},
   "outputs": [
    {
     "data": {
      "text/plain": [
       "<selenium.webdriver.edge.webdriver.WebDriver (session=\"6907c925ce9e7384bf9062d5dfc81588\")>"
      ]
     },
     "execution_count": 11,
     "metadata": {},
     "output_type": "execute_result"
    }
   ],
   "source": [
    "from selenium import webdriver\n",
    "from selenium.webdriver.common.by import By\n",
    "from selenium.webdriver.common.keys import Keys\n",
    "driver=webdriver.Edge()\n",
    "driver"
   ]
  },
  {
   "cell_type": "code",
   "execution_count": 12,
   "id": "4fd59da1",
   "metadata": {},
   "outputs": [],
   "source": [
    "website=driver.get(\"https://paperswithcode.com/\")"
   ]
  },
  {
   "cell_type": "code",
   "execution_count": 13,
   "id": "3d6e93a5",
   "metadata": {},
   "outputs": [],
   "source": [
    "search_bar=driver.find_element(By.ID,'id_global_search_input')"
   ]
  },
  {
   "cell_type": "code",
   "execution_count": 14,
   "id": "8b2e604b",
   "metadata": {},
   "outputs": [
    {
     "ename": "SyntaxError",
     "evalue": "invalid syntax (2014751183.py, line 3)",
     "output_type": "error",
     "traceback": [
      "\u001b[1;36m  File \u001b[1;32m\"C:\\Users\\Public.Rishi_Ideapad_5\\AppData\\Local\\Temp\\ipykernel_1776\\2014751183.py\"\u001b[1;36m, line \u001b[1;32m3\u001b[0m\n\u001b[1;33m    search_bar.send_keys(Keys.return)\u001b[0m\n\u001b[1;37m                              ^\u001b[0m\n\u001b[1;31mSyntaxError\u001b[0m\u001b[1;31m:\u001b[0m invalid syntax\n"
     ]
    }
   ],
   "source": [
    "search_query = input(\"Enter the Research Topic : \")\n",
    "search_bar.send_keys(search_query)\n",
    "search_bar.send_keys(Keys.RETURN)"
   ]
  },
  {
   "cell_type": "code",
   "execution_count": null,
   "id": "953a9a0d",
   "metadata": {},
   "outputs": [],
   "source": []
  }
 ],
 "metadata": {
  "kernelspec": {
   "display_name": "Python 3 (ipykernel)",
   "language": "python",
   "name": "python3"
  },
  "language_info": {
   "codemirror_mode": {
    "name": "ipython",
    "version": 3
   },
   "file_extension": ".py",
   "mimetype": "text/x-python",
   "name": "python",
   "nbconvert_exporter": "python",
   "pygments_lexer": "ipython3",
   "version": "3.9.13"
  }
 },
 "nbformat": 4,
 "nbformat_minor": 5
}
