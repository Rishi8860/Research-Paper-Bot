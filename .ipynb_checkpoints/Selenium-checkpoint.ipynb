{
 "cells": [
  {
   "cell_type": "markdown",
   "id": "2a5f9835",
   "metadata": {},
   "source": [
    "# Why Selenium\n",
    "we were using beautiful soup for getting the data from the static website but in reality most of the websites are dynamic and we need to click something, entersomething,etc to get the data, so for that we use selenium.\n",
    "\n",
    "* we also use webdriver to create the interface where we can convert our code to commands"
   ]
  },
  {
   "cell_type": "markdown",
   "id": "714af364",
   "metadata": {},
   "source": [
    "## from selenium module we take the webdriver \n",
    "then we open a browser where we can use our code to visit a website and fetch data from it."
   ]
  },
  {
   "cell_type": "code",
   "execution_count": 24,
   "id": "b149b9df",
   "metadata": {},
   "outputs": [
    {
     "name": "stderr",
     "output_type": "stream",
     "text": [
      "C:\\Users\\rishi\\AppData\\Local\\Temp/ipykernel_43204/2656066089.py:3: DeprecationWarning: executable_path has been deprecated, please pass in a Service object\n",
      "  driver=webdriver.Edge(executable_path=r\"C:\\Users\\rishi\\Desktop\\Data science\\Web scrapping\\webdriver\\msedgedriver.exe\")\n"
     ]
    },
    {
     "data": {
      "text/plain": [
       "<selenium.webdriver.edge.webdriver.WebDriver (session=\"b14bc4df798ebae372aa1fa188c94561\")>"
      ]
     },
     "execution_count": 24,
     "metadata": {},
     "output_type": "execute_result"
    }
   ],
   "source": [
    "from selenium import webdriver\n",
    "from selenium.webdriver.common.by import By\n",
    "driver=webdriver.Edge(executable_path=r\"C:\\Users\\rishi\\Desktop\\Data science\\Web scrapping\\webdriver\\msedgedriver.exe\")\n",
    "driver"
   ]
  },
  {
   "cell_type": "markdown",
   "id": "ec60e54e",
   "metadata": {},
   "source": [
    "### How to open desired website\n",
    "To do this we need to get the website on the browser which we open with the help of our code\n",
    "\n",
    "driver.get(\"link\")"
   ]
  },
  {
   "cell_type": "code",
   "execution_count": 4,
   "id": "3c742ee9",
   "metadata": {},
   "outputs": [],
   "source": [
    "website=driver.get(\"\")"
   ]
  },
  {
   "cell_type": "code",
   "execution_count": 29,
   "id": "997a94df",
   "metadata": {},
   "outputs": [
    {
     "name": "stderr",
     "output_type": "stream",
     "text": [
      "C:\\Users\\rishi\\AppData\\Local\\Temp/ipykernel_43204/3341253868.py:12: DeprecationWarning: find_element_by_* commands are deprecated. Please use find_element() instead\n",
      "  course=driver.find_element_by_link_text(\"Courses\")\n"
     ]
    },
    {
     "ename": "NoSuchElementException",
     "evalue": "Message: no such element: Unable to locate element: {\"method\":\"link text\",\"selector\":\"Courses\"}\n  (Session info: MicrosoftEdge=97.0.1072.62)\nStacktrace:\nBacktrace:\n\tMicrosoft::Applications::Events::EventProperty::EventProperty [0x00007FF6C9F17372+360450]\n\tMicrosoft::Applications::Events::EventProperty::to_string [0x00007FF6C9B1BB17+885943]\n\tMicrosoft::Applications::Events::EventProperty::to_string [0x00007FF6C9B57C75+1132053]\n\tMicrosoft::Applications::Events::EventProperty::to_string [0x00007FF6C9B8AABF+1340511]\n\tMicrosoft::Applications::Events::EventProperty::to_string [0x00007FF6C9B7306F+1243663]\n\tMicrosoft::Applications::Events::EventProperty::to_string [0x00007FF6C9B87B9C+1328444]\n\tMicrosoft::Applications::Events::EventProperty::to_string [0x00007FF6C9B72E93+1243187]\n\tMicrosoft::Applications::Events::EventProperty::to_string [0x00007FF6C9B48380+1068320]\n\tMicrosoft::Applications::Events::EventProperty::to_string [0x00007FF6C9B494A8+1072712]\n\tOrdinal0 [0x00007FF6C99A5ED3+24275]\n\tMicrosoft::Applications::Events::LogManagerProvider::CreateLogManager [0x00007FF6C9C282B7+277063]\n\tMicrosoft::Applications::Events::EventProperty::EventProperty [0x00007FF6C9DF2392+2946]\n\tMicrosoft::Applications::Events::LogManagerProvider::CreateLogManager [0x00007FF6C9BF1ADC+53868]\n\tMicrosoft::Applications::Events::EventProperty::EventProperty [0x00007FF6C9F0C513+315811]\n\tMicrosoft::Applications::Events::EventProperty::EventProperty [0x00007FF6C9F0BE54+314084]\n\tMicrosoft::Applications::Events::EventProperty::EventProperty [0x00007FF6C9F0BC9D+313645]\n\tMicrosoft::Applications::Events::EventProperty::EventProperty [0x00007FF6C9E661B3+477603]\n\tBaseThreadInitThunk [0x00007FF8391654E0+16]\n\tRtlUserThreadStart [0x00007FF839EC485B+43]\n",
     "output_type": "error",
     "traceback": [
      "\u001b[1;31m---------------------------------------------------------------------------\u001b[0m",
      "\u001b[1;31mNoSuchElementException\u001b[0m                    Traceback (most recent call last)",
      "\u001b[1;32m~\\AppData\\Local\\Temp/ipykernel_43204/3341253868.py\u001b[0m in \u001b[0;36m<module>\u001b[1;34m\u001b[0m\n\u001b[0;32m     10\u001b[0m \u001b[1;31m#driver.page_source\u001b[0m\u001b[1;33m\u001b[0m\u001b[1;33m\u001b[0m\u001b[0m\n\u001b[0;32m     11\u001b[0m \u001b[1;31m## to find out the element on the page with its name and we can take its vallue in a variable\u001b[0m\u001b[1;33m\u001b[0m\u001b[1;33m\u001b[0m\u001b[0m\n\u001b[1;32m---> 12\u001b[1;33m \u001b[0mcourse\u001b[0m\u001b[1;33m=\u001b[0m\u001b[0mdriver\u001b[0m\u001b[1;33m.\u001b[0m\u001b[0mfind_element_by_link_text\u001b[0m\u001b[1;33m(\u001b[0m\u001b[1;34m\"Courses\"\u001b[0m\u001b[1;33m)\u001b[0m\u001b[1;33m\u001b[0m\u001b[1;33m\u001b[0m\u001b[0m\n\u001b[0m\u001b[0;32m     13\u001b[0m \u001b[1;31m## If you want to click on that button just use .click method\u001b[0m\u001b[1;33m\u001b[0m\u001b[1;33m\u001b[0m\u001b[0m\n",
      "\u001b[1;32m~\\anaconda3\\lib\\site-packages\\selenium\\webdriver\\remote\\webdriver.py\u001b[0m in \u001b[0;36mfind_element_by_link_text\u001b[1;34m(self, link_text)\u001b[0m\n\u001b[0;32m    566\u001b[0m             \u001b[0mstacklevel\u001b[0m\u001b[1;33m=\u001b[0m\u001b[1;36m2\u001b[0m\u001b[1;33m,\u001b[0m\u001b[1;33m\u001b[0m\u001b[1;33m\u001b[0m\u001b[0m\n\u001b[0;32m    567\u001b[0m         )\n\u001b[1;32m--> 568\u001b[1;33m         \u001b[1;32mreturn\u001b[0m \u001b[0mself\u001b[0m\u001b[1;33m.\u001b[0m\u001b[0mfind_element\u001b[0m\u001b[1;33m(\u001b[0m\u001b[0mby\u001b[0m\u001b[1;33m=\u001b[0m\u001b[0mBy\u001b[0m\u001b[1;33m.\u001b[0m\u001b[0mLINK_TEXT\u001b[0m\u001b[1;33m,\u001b[0m \u001b[0mvalue\u001b[0m\u001b[1;33m=\u001b[0m\u001b[0mlink_text\u001b[0m\u001b[1;33m)\u001b[0m\u001b[1;33m\u001b[0m\u001b[1;33m\u001b[0m\u001b[0m\n\u001b[0m\u001b[0;32m    569\u001b[0m \u001b[1;33m\u001b[0m\u001b[0m\n\u001b[0;32m    570\u001b[0m     \u001b[1;32mdef\u001b[0m \u001b[0mfind_elements_by_link_text\u001b[0m\u001b[1;33m(\u001b[0m\u001b[0mself\u001b[0m\u001b[1;33m,\u001b[0m \u001b[0mtext\u001b[0m\u001b[1;33m)\u001b[0m \u001b[1;33m->\u001b[0m \u001b[0mWebElement\u001b[0m\u001b[1;33m:\u001b[0m\u001b[1;33m\u001b[0m\u001b[1;33m\u001b[0m\u001b[0m\n",
      "\u001b[1;32m~\\anaconda3\\lib\\site-packages\\selenium\\webdriver\\remote\\webdriver.py\u001b[0m in \u001b[0;36mfind_element\u001b[1;34m(self, by, value)\u001b[0m\n\u001b[0;32m   1242\u001b[0m             \u001b[0mvalue\u001b[0m \u001b[1;33m=\u001b[0m \u001b[1;34m'[name=\"%s\"]'\u001b[0m \u001b[1;33m%\u001b[0m \u001b[0mvalue\u001b[0m\u001b[1;33m\u001b[0m\u001b[1;33m\u001b[0m\u001b[0m\n\u001b[0;32m   1243\u001b[0m \u001b[1;33m\u001b[0m\u001b[0m\n\u001b[1;32m-> 1244\u001b[1;33m         return self.execute(Command.FIND_ELEMENT, {\n\u001b[0m\u001b[0;32m   1245\u001b[0m             \u001b[1;34m'using'\u001b[0m\u001b[1;33m:\u001b[0m \u001b[0mby\u001b[0m\u001b[1;33m,\u001b[0m\u001b[1;33m\u001b[0m\u001b[1;33m\u001b[0m\u001b[0m\n\u001b[0;32m   1246\u001b[0m             'value': value})['value']\n",
      "\u001b[1;32m~\\anaconda3\\lib\\site-packages\\selenium\\webdriver\\remote\\webdriver.py\u001b[0m in \u001b[0;36mexecute\u001b[1;34m(self, driver_command, params)\u001b[0m\n\u001b[0;32m    422\u001b[0m         \u001b[0mresponse\u001b[0m \u001b[1;33m=\u001b[0m \u001b[0mself\u001b[0m\u001b[1;33m.\u001b[0m\u001b[0mcommand_executor\u001b[0m\u001b[1;33m.\u001b[0m\u001b[0mexecute\u001b[0m\u001b[1;33m(\u001b[0m\u001b[0mdriver_command\u001b[0m\u001b[1;33m,\u001b[0m \u001b[0mparams\u001b[0m\u001b[1;33m)\u001b[0m\u001b[1;33m\u001b[0m\u001b[1;33m\u001b[0m\u001b[0m\n\u001b[0;32m    423\u001b[0m         \u001b[1;32mif\u001b[0m \u001b[0mresponse\u001b[0m\u001b[1;33m:\u001b[0m\u001b[1;33m\u001b[0m\u001b[1;33m\u001b[0m\u001b[0m\n\u001b[1;32m--> 424\u001b[1;33m             \u001b[0mself\u001b[0m\u001b[1;33m.\u001b[0m\u001b[0merror_handler\u001b[0m\u001b[1;33m.\u001b[0m\u001b[0mcheck_response\u001b[0m\u001b[1;33m(\u001b[0m\u001b[0mresponse\u001b[0m\u001b[1;33m)\u001b[0m\u001b[1;33m\u001b[0m\u001b[1;33m\u001b[0m\u001b[0m\n\u001b[0m\u001b[0;32m    425\u001b[0m             response['value'] = self._unwrap_value(\n\u001b[0;32m    426\u001b[0m                 response.get('value', None))\n",
      "\u001b[1;32m~\\anaconda3\\lib\\site-packages\\selenium\\webdriver\\remote\\errorhandler.py\u001b[0m in \u001b[0;36mcheck_response\u001b[1;34m(self, response)\u001b[0m\n\u001b[0;32m    245\u001b[0m                 \u001b[0malert_text\u001b[0m \u001b[1;33m=\u001b[0m \u001b[0mvalue\u001b[0m\u001b[1;33m[\u001b[0m\u001b[1;34m'alert'\u001b[0m\u001b[1;33m]\u001b[0m\u001b[1;33m.\u001b[0m\u001b[0mget\u001b[0m\u001b[1;33m(\u001b[0m\u001b[1;34m'text'\u001b[0m\u001b[1;33m)\u001b[0m\u001b[1;33m\u001b[0m\u001b[1;33m\u001b[0m\u001b[0m\n\u001b[0;32m    246\u001b[0m             \u001b[1;32mraise\u001b[0m \u001b[0mexception_class\u001b[0m\u001b[1;33m(\u001b[0m\u001b[0mmessage\u001b[0m\u001b[1;33m,\u001b[0m \u001b[0mscreen\u001b[0m\u001b[1;33m,\u001b[0m \u001b[0mstacktrace\u001b[0m\u001b[1;33m,\u001b[0m \u001b[0malert_text\u001b[0m\u001b[1;33m)\u001b[0m  \u001b[1;31m# type: ignore[call-arg]  # mypy is not smart enough here\u001b[0m\u001b[1;33m\u001b[0m\u001b[1;33m\u001b[0m\u001b[0m\n\u001b[1;32m--> 247\u001b[1;33m         \u001b[1;32mraise\u001b[0m \u001b[0mexception_class\u001b[0m\u001b[1;33m(\u001b[0m\u001b[0mmessage\u001b[0m\u001b[1;33m,\u001b[0m \u001b[0mscreen\u001b[0m\u001b[1;33m,\u001b[0m \u001b[0mstacktrace\u001b[0m\u001b[1;33m)\u001b[0m\u001b[1;33m\u001b[0m\u001b[1;33m\u001b[0m\u001b[0m\n\u001b[0m\u001b[0;32m    248\u001b[0m \u001b[1;33m\u001b[0m\u001b[0m\n\u001b[0;32m    249\u001b[0m     \u001b[1;32mdef\u001b[0m \u001b[0m_value_or_default\u001b[0m\u001b[1;33m(\u001b[0m\u001b[0mself\u001b[0m\u001b[1;33m,\u001b[0m \u001b[0mobj\u001b[0m\u001b[1;33m:\u001b[0m \u001b[0mMapping\u001b[0m\u001b[1;33m[\u001b[0m\u001b[0m_KT\u001b[0m\u001b[1;33m,\u001b[0m \u001b[0m_VT\u001b[0m\u001b[1;33m]\u001b[0m\u001b[1;33m,\u001b[0m \u001b[0mkey\u001b[0m\u001b[1;33m:\u001b[0m \u001b[0m_KT\u001b[0m\u001b[1;33m,\u001b[0m \u001b[0mdefault\u001b[0m\u001b[1;33m:\u001b[0m \u001b[0m_VT\u001b[0m\u001b[1;33m)\u001b[0m \u001b[1;33m->\u001b[0m \u001b[0m_VT\u001b[0m\u001b[1;33m:\u001b[0m\u001b[1;33m\u001b[0m\u001b[1;33m\u001b[0m\u001b[0m\n",
      "\u001b[1;31mNoSuchElementException\u001b[0m: Message: no such element: Unable to locate element: {\"method\":\"link text\",\"selector\":\"Courses\"}\n  (Session info: MicrosoftEdge=97.0.1072.62)\nStacktrace:\nBacktrace:\n\tMicrosoft::Applications::Events::EventProperty::EventProperty [0x00007FF6C9F17372+360450]\n\tMicrosoft::Applications::Events::EventProperty::to_string [0x00007FF6C9B1BB17+885943]\n\tMicrosoft::Applications::Events::EventProperty::to_string [0x00007FF6C9B57C75+1132053]\n\tMicrosoft::Applications::Events::EventProperty::to_string [0x00007FF6C9B8AABF+1340511]\n\tMicrosoft::Applications::Events::EventProperty::to_string [0x00007FF6C9B7306F+1243663]\n\tMicrosoft::Applications::Events::EventProperty::to_string [0x00007FF6C9B87B9C+1328444]\n\tMicrosoft::Applications::Events::EventProperty::to_string [0x00007FF6C9B72E93+1243187]\n\tMicrosoft::Applications::Events::EventProperty::to_string [0x00007FF6C9B48380+1068320]\n\tMicrosoft::Applications::Events::EventProperty::to_string [0x00007FF6C9B494A8+1072712]\n\tOrdinal0 [0x00007FF6C99A5ED3+24275]\n\tMicrosoft::Applications::Events::LogManagerProvider::CreateLogManager [0x00007FF6C9C282B7+277063]\n\tMicrosoft::Applications::Events::EventProperty::EventProperty [0x00007FF6C9DF2392+2946]\n\tMicrosoft::Applications::Events::LogManagerProvider::CreateLogManager [0x00007FF6C9BF1ADC+53868]\n\tMicrosoft::Applications::Events::EventProperty::EventProperty [0x00007FF6C9F0C513+315811]\n\tMicrosoft::Applications::Events::EventProperty::EventProperty [0x00007FF6C9F0BE54+314084]\n\tMicrosoft::Applications::Events::EventProperty::EventProperty [0x00007FF6C9F0BC9D+313645]\n\tMicrosoft::Applications::Events::EventProperty::EventProperty [0x00007FF6C9E661B3+477603]\n\tBaseThreadInitThunk [0x00007FF8391654E0+16]\n\tRtlUserThreadStart [0x00007FF839EC485B+43]\n"
     ]
    }
   ],
   "source": [
    "## to Get the Title of the webpage we can simply write\n",
    "#driver.title\n",
    "## to go back\n",
    "#driver.back()\n",
    "## to go next\n",
    "#driver.forward()\n",
    "## to save screenshot\n",
    "# driver.save_screenshot(\"name of the file\")\n",
    "## to get the page source (all the html content)\n",
    "#driver.page_source\n",
    "## to find out the element on the page with its name and we can take its vallue in a variable\n",
    "course=driver.find_element_by_link_text(\"Courses\")\n",
    "## If you want to click on that button just use .click method "
   ]
  }
 ],
 "metadata": {
  "kernelspec": {
   "display_name": "Python 3 (ipykernel)",
   "language": "python",
   "name": "python3"
  },
  "language_info": {
   "codemirror_mode": {
    "name": "ipython",
    "version": 3
   },
   "file_extension": ".py",
   "mimetype": "text/x-python",
   "name": "python",
   "nbconvert_exporter": "python",
   "pygments_lexer": "ipython3",
   "version": "3.9.7"
  }
 },
 "nbformat": 4,
 "nbformat_minor": 5
}
