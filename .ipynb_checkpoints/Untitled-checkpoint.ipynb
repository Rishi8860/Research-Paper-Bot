{
 "cells": [
  {
   "cell_type": "code",
   "execution_count": 1,
   "id": "43fb32c9",
   "metadata": {},
   "outputs": [],
   "source": [
    "from selenium import webdriver\n",
    "from selenium.webdriver.common.by import By\n",
    "from bs4 import BeautifulSoup"
   ]
  },
  {
   "cell_type": "code",
   "execution_count": 33,
   "id": "9326ad0d",
   "metadata": {},
   "outputs": [
    {
     "name": "stderr",
     "output_type": "stream",
     "text": [
      "C:\\Users\\rishi\\AppData\\Local\\Temp/ipykernel_51984/3814475764.py:1: DeprecationWarning: executable_path has been deprecated, please pass in a Service object\n",
      "  driver=webdriver.Edge(executable_path=r\"C:\\Users\\rishi\\Desktop\\Data science\\Web scrapping\\webdriver\\msedgedriver.exe\")\n"
     ]
    }
   ],
   "source": [
    "driver=webdriver.Edge(executable_path=r\"C:\\Users\\rishi\\Desktop\\Data science\\Web scrapping\\webdriver\\msedgedriver.exe\")\n"
   ]
  },
  {
   "cell_type": "code",
   "execution_count": 4,
   "id": "5f3204e1",
   "metadata": {},
   "outputs": [],
   "source": [
    "driver.get(\"https://www.geeksforgeeks.org/\")"
   ]
  },
  {
   "cell_type": "code",
   "execution_count": 5,
   "id": "35a4f294",
   "metadata": {},
   "outputs": [],
   "source": [
    "DS=driver.find_element(By.LINK_TEXT,\"Data Structures\")\n",
    "DS.click()"
   ]
  },
  {
   "cell_type": "code",
   "execution_count": 13,
   "id": "4463c6d3",
   "metadata": {},
   "outputs": [],
   "source": [
    "driver.back()\n",
    "\n"
   ]
  },
  {
   "cell_type": "code",
   "execution_count": 14,
   "id": "9f27f12e",
   "metadata": {},
   "outputs": [],
   "source": [
    "Graph=driver.find_element(By.LINK_TEXT,\"Graph\")"
   ]
  },
  {
   "cell_type": "code",
   "execution_count": 15,
   "id": "5c46edff",
   "metadata": {},
   "outputs": [],
   "source": [
    "Graph.click()"
   ]
  },
  {
   "cell_type": "code",
   "execution_count": 22,
   "id": "55d61850",
   "metadata": {},
   "outputs": [],
   "source": [
    "data=BeautifulSoup(driver.page_source,\"html.parser\")\n",
    "a=data.find(class_=\"topologicalSorting\")"
   ]
  },
  {
   "cell_type": "code",
   "execution_count": 25,
   "id": "25180999",
   "metadata": {},
   "outputs": [
    {
     "name": "stdout",
     "output_type": "stream",
     "text": [
      "Topological Sorting\n",
      "All topological sorts of a Directed Acyclic Graph\n",
      "Kahn’s Algorithm for Topological Sorting\n",
      "Maximum edges that can be added to DAG so that is remains DAG\n",
      "Longest path between any pair of vertices\n",
      "Longest Path in a Directed Acyclic Graph\n",
      "Longest Path in a Directed Acyclic Graph | Set 2\n",
      "Topological Sort of a graph using departure time of vertex\n",
      "Given a sorted dictionary of an alien language, find order of characters\n"
     ]
    }
   ],
   "source": [
    "for i in a.find_all(\"a\"):\n",
    "    print(i.string)"
   ]
  },
  {
   "cell_type": "code",
   "execution_count": 26,
   "id": "352b61f9",
   "metadata": {},
   "outputs": [],
   "source": [
    "driver.close()"
   ]
  },
  {
   "cell_type": "code",
   "execution_count": 31,
   "id": "262071b8",
   "metadata": {},
   "outputs": [
    {
     "name": "stdout",
     "output_type": "stream",
     "text": [
      "Enter the User name : rishik.8102001@gmail.com\n",
      "Enter the Password : Rishi@2468\n"
     ]
    }
   ],
   "source": [
    "user_name=input(\"Enter the User name : \")\n",
    "Password=input(\"Enter the Password : \")"
   ]
  },
  {
   "cell_type": "code",
   "execution_count": 34,
   "id": "2e6652ba",
   "metadata": {},
   "outputs": [],
   "source": [
    "driver.get(\"http://www.afcat.cdac.in/afcatreg/signin\")"
   ]
  },
  {
   "cell_type": "code",
   "execution_count": 39,
   "id": "747c8885",
   "metadata": {},
   "outputs": [],
   "source": [
    "email=driver.find_element(By.NAME,\"emailId\")\n",
    "email.send_keys(user_name)\n",
    "password=driver.find_element(By.NAME,\"password\")\n",
    "password.send_keys(Password)\n",
    "driver.find_element(By.NAME,\"Ctext\").send_keys(\"TLrrN\")\n",
    "driver.find_element(By.ID,\"signInSubmitBtn\").click()"
   ]
  },
  {
   "cell_type": "code",
   "execution_count": 38,
   "id": "74ab8d94",
   "metadata": {},
   "outputs": [],
   "source": [
    "email.clear()\n",
    "password.clear()\n",
    "driver.find_element(By.NAME,\"Ctext\").clear()\n"
   ]
  },
  {
   "cell_type": "code",
   "execution_count": null,
   "id": "b79f4ce3",
   "metadata": {},
   "outputs": [],
   "source": []
  },
  {
   "cell_type": "code",
   "execution_count": null,
   "id": "1fe4fa97",
   "metadata": {},
   "outputs": [],
   "source": []
  }
 ],
 "metadata": {
  "kernelspec": {
   "display_name": "Python 3 (ipykernel)",
   "language": "python",
   "name": "python3"
  },
  "language_info": {
   "codemirror_mode": {
    "name": "ipython",
    "version": 3
   },
   "file_extension": ".py",
   "mimetype": "text/x-python",
   "name": "python",
   "nbconvert_exporter": "python",
   "pygments_lexer": "ipython3",
   "version": "3.9.7"
  }
 },
 "nbformat": 4,
 "nbformat_minor": 5
}
