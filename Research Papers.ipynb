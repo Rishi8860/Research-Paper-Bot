{
 "cells": [
  {
   "cell_type": "markdown",
   "id": "685acc20",
   "metadata": {},
   "source": [
    "# Loading the Driver"
   ]
  },
  {
   "cell_type": "code",
   "execution_count": 1,
   "id": "e6732666",
   "metadata": {},
   "outputs": [],
   "source": [
    "from selenium import webdriver\n",
    "from selenium.webdriver.common.by import By\n",
    "from selenium.webdriver.common.keys import Keys\n",
    "import pandas as pd\n",
    "import time\n",
    "driver=webdriver.Edge()"
   ]
  },
  {
   "cell_type": "code",
   "execution_count": 2,
   "id": "216a493f",
   "metadata": {},
   "outputs": [],
   "source": [
    "def scroll_down(driver, pause_time=2):\n",
    "    last_height = driver.execute_script(\"return document.body.scrollHeight\")\n",
    "    while True:\n",
    "        driver.execute_script(\"window.scrollTo(0, document.body.scrollHeight);\")\n",
    "\n",
    "        time.sleep(pause_time)\n",
    "\n",
    "        new_height = driver.execute_script(\"return document.body.scrollHeight\")\n",
    "        if new_height == last_height:\n",
    "            break\n",
    "        last_height = new_height"
   ]
  },
  {
   "cell_type": "code",
   "execution_count": 3,
   "id": "f62786f4",
   "metadata": {},
   "outputs": [],
   "source": [
    "website=driver.get(\"https://paperswithcode.com/\")"
   ]
  },
  {
   "cell_type": "code",
   "execution_count": 4,
   "id": "7fb478c8",
   "metadata": {},
   "outputs": [
    {
     "name": "stdout",
     "output_type": "stream",
     "text": [
      "Enter the Research Topic : Brain Tumor\n",
      "Do you want to search for some other papers: (0: to Discontinue )1\n",
      "Enter the Research Topic : Deep Learning\n",
      "Do you want to search for some other papers: (0: to Discontinue )0\n"
     ]
    }
   ],
   "source": [
    "Papers=pd.DataFrame(columns=['Title','GitHub URL','Date of Publication'])\n",
    "while True:\n",
    "    search_bar=driver.find_element(By.ID,'id_global_search_input')\n",
    "    search_query = input(\"Enter the Research Topic : \")\n",
    "    search_bar.clear()\n",
    "    search_bar.send_keys(search_query)\n",
    "\n",
    "    search_bar.submit()\n",
    "    scroll_down(driver)\n",
    "    paper_cards=driver.find_elements(By.CLASS_NAME,'paper-card')\n",
    "    title=[]\n",
    "    dop=[]\n",
    "    github_link=[]\n",
    "    for i in paper_cards:\n",
    "        title.append(i.find_element(By.TAG_NAME,'h1').text)\n",
    "        date=i.find_elements(By.CLASS_NAME,'item-date-pub')\n",
    "        github=i.find_elements(By.CLASS_NAME,'badge-dark')\n",
    "        if date:\n",
    "            dop.append(date[0].text)\n",
    "        else:\n",
    "            dop.append(None)\n",
    "        if github:\n",
    "            github_link.append(github[0].get_attribute('href'))\n",
    "        else:\n",
    "            github_link.append(None)\n",
    "    df=pd.DataFrame({\"Title\":title,\"GitHub URL\":github_link,\"Date of Publication\":dop})\n",
    "    Papers=pd.concat([Papers,df],ignore_index=True)\n",
    "    \n",
    "    con=int(input(\"Do you want to search for some other papers: (0: to Discontinue )\"))\n",
    "    if con==0:\n",
    "        break"
   ]
  },
  {
   "cell_type": "code",
   "execution_count": 5,
   "id": "ea466beb",
   "metadata": {},
   "outputs": [],
   "source": [
    "Papers.to_csv('Research_Papers.csv')"
   ]
  },
  {
   "cell_type": "code",
   "execution_count": null,
   "id": "d2730237",
   "metadata": {},
   "outputs": [],
   "source": []
  }
 ],
 "metadata": {
  "kernelspec": {
   "display_name": "Python 3 (ipykernel)",
   "language": "python",
   "name": "python3"
  },
  "language_info": {
   "codemirror_mode": {
    "name": "ipython",
    "version": 3
   },
   "file_extension": ".py",
   "mimetype": "text/x-python",
   "name": "python",
   "nbconvert_exporter": "python",
   "pygments_lexer": "ipython3",
   "version": "3.9.13"
  }
 },
 "nbformat": 4,
 "nbformat_minor": 5
}
