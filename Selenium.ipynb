{
 "cells": [
  {
   "cell_type": "markdown",
   "id": "2a5f9835",
   "metadata": {},
   "source": [
    "# Why Selenium\n",
    "we were using beautiful soup for getting the data from the static website but in reality most of the websites are dynamic and we need to click something, entersomething,etc to get the data, so for that we use selenium.\n",
    "\n",
    "* we also use webdriver to create the interface where we can convert our code to commands"
   ]
  },
  {
   "cell_type": "markdown",
   "id": "209fbef2",
   "metadata": {},
   "source": [
    "## from selenium module we take the webdriver \n",
    "then we open a browser where we can use our code to visit a website and fetch data from it."
   ]
  },
  {
   "cell_type": "code",
   "execution_count": 2,
   "id": "b149b9df",
   "metadata": {},
   "outputs": [
    {
     "name": "stderr",
     "output_type": "stream",
     "text": [
      "C:\\Users\\rishi\\AppData\\Local\\Temp/ipykernel_27568/2656066089.py:3: DeprecationWarning: executable_path has been deprecated, please pass in a Service object\n",
      "  driver=webdriver.Edge(executable_path=r\"C:\\Users\\rishi\\Desktop\\Data science\\Web scrapping\\webdriver\\msedgedriver.exe\")\n"
     ]
    },
    {
     "data": {
      "text/plain": [
       "<selenium.webdriver.edge.webdriver.WebDriver (session=\"f54f0cb4c5254553fddc87b936490646\")>"
      ]
     },
     "execution_count": 2,
     "metadata": {},
     "output_type": "execute_result"
    }
   ],
   "source": [
    "from selenium import webdriver\n",
    "from selenium.webdriver.common.by import By\n",
    "driver=webdriver.Edge(executable_path=r\"C:\\Users\\rishi\\Desktop\\Data science\\Web scrapping\\webdriver\\msedgedriver.exe\")\n",
    "driver"
   ]
  },
  {
   "cell_type": "markdown",
   "id": "b855a5a3",
   "metadata": {},
   "source": [
    "### How to open desired website\n",
    "To do this we need to get the website on the browser which we open with the help of our code\n",
    "\n",
    "driver.get(\"link\")"
   ]
  },
  {
   "cell_type": "code",
   "execution_count": 40,
   "id": "3a4e672d",
   "metadata": {},
   "outputs": [],
   "source": [
    "website=driver.get(\"https://unsplash.com/explore\")"
   ]
  },
  {
   "cell_type": "markdown",
   "id": "5411f5f8",
   "metadata": {},
   "source": [
    "## to Get the Title of the webpage we can simply write\n",
    "#driver.title\n",
    "## to go back\n",
    "#driver.back()\n",
    "## to go next\n",
    "#driver.forward()\n",
    "## to save screenshot\n",
    "#driver.save_screenshot(\"name of the file\")\n",
    "## to get the page source (all the html content)\n",
    "#driver.page_source\n",
    "## to find out the element on the page with its name and we can take its vallue in a variable\n",
    "#course=driver.find_element(By.LINK_TEXT,\"Unsplash License\")\n",
    "## If you want to click on that button just use .click method\n",
    "#course.click()\n",
    "#driver.back()\n",
    "## To maximize the window, and to minimize the window\n",
    "#driver.maximize_window()\n",
    "#driver.minimize_window()\n",
    "## To refresh a page\n",
    "#driver.refresh()\n",
    "## To get the current URL\n",
    "#driver.current_url\n",
    "## To close the current window where you are working \n",
    "#driver.close()\n",
    "## To close every window associated with the driver and to exit the driver\n",
    "#driver.quit()"
   ]
  },
  {
   "cell_type": "code",
   "execution_count": 48,
   "id": "1f921044",
   "metadata": {},
   "outputs": [],
   "source": [
    "driver.get(\"https://www.google.com/?gws_rd=ssl\")\n",
    "button=driver.find_element(By.PARTIAL_LINK_TEXT,\"mage\")\n",
    "button.click()"
   ]
  },
  {
   "cell_type": "code",
   "execution_count": 49,
   "id": "24244d5d",
   "metadata": {},
   "outputs": [],
   "source": [
    "driver.back()"
   ]
  },
  {
   "cell_type": "markdown",
   "id": "681098c3",
   "metadata": {},
   "source": [
    "# To Find the Element\n",
    "* first we need to from selenium.webdriver.common.by import By\n",
    "## driver.find_element(By.which,\"value\")\n",
    "* driver.find_element(By.CLASS_NAME,\"class_name\")\n",
    "* driver.find_element(By.CSS_SELECTOR,\"css selectot\")\n",
    "* driver.find_element(By.ID,\"Id_name\")\n",
    "* driver.find_element(By.LINK_TEXT,\"Link_name\")\n",
    "* driver.find_element(By.mro,\"mro\")\n",
    "* driver.find_element(By.PARTIAL_LINK_TEXT,\"Partial Link\")\n",
    "* driver.find_element(By.XPATH,\"xpath\")\n",
    "* driver.find_element(By.TAG_NAME,\"Tag\")\n",
    "* driver.find_element(By.NAME,\"name\")\n",
    "this will return the first element it encounter but if we want all the elements then we use\n",
    "## driver.find_elements(By.which,\"value\")\n",
    "* driver.find_elements(By.CLASS_NAME,\"class_name\")\n",
    "* driver.find_elements(By.CSS_SELECTOR,\"css selector\")\n",
    "        in xpath we pass the absolute the path ex: html body ...\n",
    "        or we can pass relative xpath ex: //tag(* we use star for every element wuth that attribue)\n",
    "* driver.find_elements(By.ID,\"Id_name\")\n",
    "* driver.find_elements(By.LINK_TEXT,\"Link_name\")\n",
    "* driver.find_elements(By.mro,\"mro\")\n",
    "* driver.find_elements(By.PARTIAL_LINK_TEXT,\"Partial Link\")\n",
    "* driver.find_elements(By.XPATH,\"xpath\")\n",
    "        in xpath we pass the absolute the path ex: /html/body/...\n",
    "        or tag.class_name or tag.#id_name\n",
    "* driver.find_elements(By.TAG_NAME,\"Tag\")\n",
    "* driver.find_elements(By.NAME,\"name\")\n",
    "## methods we can apply on the fetched data\n",
    "* click() // to click on the element\n",
    "* clear() // to clear the data entered in the user edited box\n",
    "* get_attribute(name) // the the attribute of the text\n",
    "* send_keys(*values) // used to send the data\n",
    "* submit() // used to submit a form\n",
    "* text // get the text in the fetched data\n",
    "* tag_name // get the name of the tag\n",
    "\n",
    "now sometimes some buttons are not enabled until some task is done and to check weather a button is enabled we use *data.is_enabled()\n",
    "\n",
    "sometimes some data is not visible until some task is done and to check weather it is visible or not we use *data.is_displayed()\n",
    "\n",
    "to check weather a checkbox is checked or not we use *data.is_selected()"
   ]
  },
  {
   "cell_type": "code",
   "execution_count": 60,
   "id": "cdf38018",
   "metadata": {},
   "outputs": [],
   "source": [
    "driver.get(\"https://www.facebook.com/\")"
   ]
  },
  {
   "cell_type": "code",
   "execution_count": 61,
   "id": "d3ee7430",
   "metadata": {},
   "outputs": [],
   "source": [
    "email=driver.find_element(By.ID,\"email\")"
   ]
  },
  {
   "cell_type": "code",
   "execution_count": 64,
   "id": "2da3d0c7",
   "metadata": {},
   "outputs": [
    {
     "data": {
      "text/plain": [
       "False"
      ]
     },
     "execution_count": 64,
     "metadata": {},
     "output_type": "execute_result"
    }
   ],
   "source": [
    "email.is_selected()"
   ]
  }
 ],
 "metadata": {
  "kernelspec": {
   "display_name": "Python 3 (ipykernel)",
   "language": "python",
   "name": "python3"
  },
  "language_info": {
   "codemirror_mode": {
    "name": "ipython",
    "version": 3
   },
   "file_extension": ".py",
   "mimetype": "text/x-python",
   "name": "python",
   "nbconvert_exporter": "python",
   "pygments_lexer": "ipython3",
   "version": "3.9.13"
  }
 },
 "nbformat": 4,
 "nbformat_minor": 5
}
